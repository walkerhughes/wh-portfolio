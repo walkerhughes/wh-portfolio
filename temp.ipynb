{
 "cells": [
  {
   "cell_type": "code",
   "execution_count": 1,
   "metadata": {},
   "outputs": [],
   "source": [
    "# from langchain.document_loaders import YoutubeLoader\n",
    "from langchain_community.document_loaders import YoutubeLoader\n",
    "from langchain.text_splitter import RecursiveCharacterTextSplitter\n",
    "from langchain_openai import OpenAIEmbeddings\n",
    "from langchain.vectorstores import FAISS\n",
    "from langchain_openai import ChatOpenAI\n",
    "from langchain.chains import LLMChain\n",
    "from langchain.prompts.chat import (\n",
    "    ChatPromptTemplate,\n",
    "    SystemMessagePromptTemplate,\n",
    "    HumanMessagePromptTemplate\n",
    ")\n",
    "import textwrap\n",
    "\n",
    "class YoutubeVideoRAG:\n",
    "    \"\"\"\n",
    "    class for querying youtube video transcripts with gpt 3.5 turbo using langchain\n",
    "\n",
    "    all user inputs are specified when instantiating the class with a list of video url's\n",
    "\n",
    "    users can then use the .answer_query method to ask questions\n",
    "    \"\"\"\n",
    "    def __init__(self, api_key: str = \"\", video_urls: list = []):\n",
    "\n",
    "        self.video_urls = video_urls\n",
    "        self.api_key = api_key\n",
    "        self.final_docs = []\n",
    "        self.embeddings = OpenAIEmbeddings(openai_api_key = self.api_key)\n",
    "        self.chat = ChatOpenAI(\n",
    "            openai_api_key=self.api_key,\n",
    "            model_name=\"gpt-3.5-turbo\",\n",
    "            temperature=0.2\n",
    "        )\n",
    "        print(self.video_urls)\n",
    "        self.db = self.create_db_from_video_urls(self.video_urls)\n",
    "\n",
    "        self.system_template = \"\"\"\n",
    "            You are a helpful assistant answering questions about youtube videos based on their transcripts: {docs}\n",
    "\n",
    "            Only use factual information from the transcipt to answer the question. The answers you provide should be detailed but concise, \\\n",
    "            and understandable by someone who has not watched the Youtube video or read the transcript.\n",
    "\n",
    "            If you feel like you don't have enought information to answer the question, \\\n",
    "            repond with 'I don't have sufficient information to answer this question at the moment based on the transcript of this video alone.'\n",
    "        \"\"\"\n",
    "\n",
    "        self.human_template = \"Answer the following question: {question}\"\n",
    "\n",
    "    def create_db_from_video_urls(self, video_urls: list = []):\n",
    "\n",
    "        for video_url in video_urls:\n",
    "            try:\n",
    "                loader = YoutubeLoader.from_youtube_url(video_url)\n",
    "                transcript = loader.load()\n",
    "                text_splitter = RecursiveCharacterTextSplitter(chunk_size=1000, chunk_overlap=100)\n",
    "                docs = text_splitter.split_documents(transcript)\n",
    "                for _ in docs:\n",
    "                    self.final_docs.append(_)\n",
    "            except:\n",
    "                raise ValueError()\n",
    "\n",
    "        db = FAISS.from_documents(self.final_docs, self.embeddings)\n",
    "        return db\n",
    "\n",
    "    def print_response(self, response: str):\n",
    "        print(textwrap.fill(response, width=75))\n",
    "\n",
    "    def answer_query(self, query: str, k: int = 4):\n",
    "\n",
    "        def document_similarity_search(query: str = \"\", k: int = 4):\n",
    "            docs = self.db.similarity_search(query, k=k)\n",
    "            docs_page_content = \" \".join([d.page_content for d in docs])\n",
    "            return docs_page_content\n",
    "\n",
    "        chat_prompt = ChatPromptTemplate.from_messages([\n",
    "            SystemMessagePromptTemplate.from_template(self.system_template),\n",
    "            HumanMessagePromptTemplate.from_template(self.human_template)\n",
    "        ])\n",
    "\n",
    "        docs_page_content = document_similarity_search(query = query, k = k)\n",
    "\n",
    "        chain = LLMChain(llm=self.chat, prompt=chat_prompt)\n",
    "        response = chain.run(question=query, docs=docs_page_content).replace(\"\\n\", \" \")\n",
    "        self.response = response\n",
    "        return self.response"
   ]
  },
  {
   "cell_type": "code",
   "execution_count": 2,
   "metadata": {},
   "outputs": [],
   "source": [
    "url = \"https://www.youtube.com/watch?v=4t4YkHSTZbw&t=2s\"\n"
   ]
  },
  {
   "cell_type": "code",
   "execution_count": 3,
   "metadata": {},
   "outputs": [
    {
     "name": "stdout",
     "output_type": "stream",
     "text": [
      "['https://www.youtube.com/watch?v=4t4YkHSTZbw&t=2s', 'https://www.youtube.com/watch?v=4t4YkHSTZbw&t=2s']\n"
     ]
    }
   ],
   "source": [
    "bot = YoutubeVideoRAG(api_key=key, video_urls=[url, url])"
   ]
  },
  {
   "cell_type": "code",
   "execution_count": 4,
   "metadata": {},
   "outputs": [
    {
     "name": "stderr",
     "output_type": "stream",
     "text": [
      "/Library/Frameworks/Python.framework/Versions/3.12/lib/python3.12/site-packages/langchain_core/_api/deprecation.py:117: LangChainDeprecationWarning: The function `run` was deprecated in LangChain 0.1.0 and will be removed in 0.2.0. Use invoke instead.\n",
      "  warn_deprecated(\n"
     ]
    },
    {
     "data": {
      "text/plain": [
       "'The transcript mentions that Sam Bankman-Freed (SBF) of FTX was found guilty a couple of months ago in November and was sentenced to 25 years in total. The judge stated that SBF had lied throughout the trial and showed no remorse. Additionally, it is noted that SBF is not willing to admit to any wrongdoing, as is his right.'"
      ]
     },
     "execution_count": 4,
     "metadata": {},
     "output_type": "execute_result"
    }
   ],
   "source": [
    "bot.answer_query(\"what do they mention about SBF?\")"
   ]
  },
  {
   "cell_type": "code",
   "execution_count": 5,
   "metadata": {},
   "outputs": [
    {
     "data": {
      "text/plain": [
       "\"Based on the transcript, there is no explicit mention of why Donald Trump does not want to admit any wrongdoing in the lawsuits he is facing. The focus of the discussion is more on his supporters' loyalty, the lawsuits against him, and the financial aspects of his situation. Therefore, I don't have sufficient information to answer this question at the moment based on the transcript of this video alone.\""
      ]
     },
     "execution_count": 5,
     "metadata": {},
     "output_type": "execute_result"
    }
   ],
   "source": [
    "bot.answer_query(\"do they mention why he doesn't want to admit any wrongdoing?\")"
   ]
  },
  {
   "cell_type": "code",
   "execution_count": null,
   "metadata": {},
   "outputs": [],
   "source": []
  }
 ],
 "metadata": {
  "kernelspec": {
   "display_name": "Python 3",
   "language": "python",
   "name": "python3"
  },
  "language_info": {
   "codemirror_mode": {
    "name": "ipython",
    "version": 3
   },
   "file_extension": ".py",
   "mimetype": "text/x-python",
   "name": "python",
   "nbconvert_exporter": "python",
   "pygments_lexer": "ipython3",
   "version": "3.12.2"
  }
 },
 "nbformat": 4,
 "nbformat_minor": 2
}
