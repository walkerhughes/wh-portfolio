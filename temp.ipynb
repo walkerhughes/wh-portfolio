{
 "cells": [
  {
   "cell_type": "code",
   "execution_count": 25,
   "metadata": {},
   "outputs": [],
   "source": [
    "from string import Template\n",
    "\n",
    "with open(\"./llm_prompts/page_2/initial_game_prompt.txt\", \"r\") as infile: \n",
    "    game_prompt_template = Template(infile.read())"
   ]
  },
  {
   "cell_type": "code",
   "execution_count": 26,
   "metadata": {},
   "outputs": [],
   "source": [
    "language = \"portuguese\""
   ]
  },
  {
   "cell_type": "code",
   "execution_count": 27,
   "metadata": {},
   "outputs": [],
   "source": [
    "template = Template(game_prompt_template)\n",
    "message = template.substitute(language=language)"
   ]
  },
  {
   "cell_type": "code",
   "execution_count": 29,
   "metadata": {},
   "outputs": [
    {
     "name": "stdout",
     "output_type": "stream",
     "text": [
      "I am fluent in portuguese, and you are an expert at figurative language, cultural expressions, and idioms in the portuguese language.\n",
      "\n",
      "We are playing a game in which the goal is for the player to score the most points. You, the master of ceremonies, will present the \n",
      "player with a {} idiom or saying and give an example of it being used in a sentence to add context. The player has to guess \n",
      "its correct meaning from one of three multiple-choice answers that you present. Users score 1 point for a correct answer.\n",
      "\n",
      "Start with easier questions and increase the difficulty as the player gets more correct. Make sure the correct answer alternates \n",
      "between options A, B, or C. \n",
      "\n",
      "If the user does not get the question correct the first try, DO NOT reveal the answer to them immediately. Instead, give them another try \n",
      "to guess its meaning, providing a second example of the phrase being used in a sentence to add further context. If the player get's the \n",
      "answer correct on the second try, they get 0.5 points. If they get the answer wrong twice, you may reveal the correct meaning with a brief \n",
      "explanation of what the phrase means. Give the player a running point tally after each correct guess, or after you reveal the correct answer \n",
      "to them if they guess incorrectly twice in a row.\n",
      "\n",
      "Use the following structure for your response, filling in your portion inside the <>: \n",
      "\n",
      "Phrase: <add phrase in portuguese> \n",
      "\n",
      "In a Sentence: <give an example of it being used in a sentence>\n",
      "\n",
      "Can you guess what it means?\n",
      "\n",
      "A: <option a>\n",
      "\n",
      "B: <option b>\n",
      "\n",
      "C: <option c>\n",
      "\n",
      "Let's play!\n"
     ]
    }
   ],
   "source": [
    "print(message)"
   ]
  },
  {
   "cell_type": "code",
   "execution_count": null,
   "metadata": {},
   "outputs": [],
   "source": []
  }
 ],
 "metadata": {
  "kernelspec": {
   "display_name": "Python 3",
   "language": "python",
   "name": "python3"
  },
  "language_info": {
   "codemirror_mode": {
    "name": "ipython",
    "version": 3
   },
   "file_extension": ".py",
   "mimetype": "text/x-python",
   "name": "python",
   "nbconvert_exporter": "python",
   "pygments_lexer": "ipython3",
   "version": "3.12.2"
  }
 },
 "nbformat": 4,
 "nbformat_minor": 2
}
